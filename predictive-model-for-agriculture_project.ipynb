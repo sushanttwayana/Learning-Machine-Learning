{
 "cells": [
  {
   "cell_type": "markdown",
   "id": "198f64e1",
   "metadata": {
    "papermill": {
     "duration": 0.008326,
     "end_time": "2024-05-14T17:48:13.568369",
     "exception": false,
     "start_time": "2024-05-14T17:48:13.560043",
     "status": "completed"
    },
    "tags": []
   },
   "source": [
    "Measuring essential soil metrics such as nitrogen, phosphorous, potassium levels, and pH value is an important aspect of assessing soil condition. However, it can be an expensive and time-consuming process, which can cause farmers to prioritize which metrics to measure based on their budget constraints.\n",
    "\n",
    "Farmers have various options when it comes to deciding which crop to plant each season. Their primary objective is to maximize the yield of their crops, taking into account different factors. One crucial factor that affects crop growth is the condition of the soil in the field, which can be assessed by measuring basic elements such as nitrogen and potassium levels. Each crop has an ideal soil condition that ensures optimal growth and maximum yield.\n",
    "\n",
    "A farmer reached out to you as a machine learning expert for assistance in selecting the best crop for his field. They've provided you with a dataset called soil_measures.csv, which contains:\n",
    "\n",
    "\"N\": Nitrogen content ratio in the soil\n",
    "\"P\": Phosphorous content ratio in the soil\n",
    "\"K\": Potassium content ratio in the soil\n",
    "\"pH\" value of the soil\n",
    "\"crop\": categorical values that contain various crops (target variable).\n",
    "Each row in this dataset represents various measures of the soil in a particular field. Based on these measurements, the crop specified in the \"crop\" column is the optimal choice for that field.\n",
    "\n",
    "In this project, you will build multi-class classification models to predict the type of \"crop\" and identify the single most importance feature for predictive performance."
   ]
  },
  {
   "cell_type": "markdown",
   "id": "53cb54cf",
   "metadata": {
    "papermill": {
     "duration": 0.007449,
     "end_time": "2024-05-14T17:48:13.583959",
     "exception": false,
     "start_time": "2024-05-14T17:48:13.576510",
     "status": "completed"
    },
    "tags": []
   },
   "source": [
    "Identify the single feature that has the strongest predictive performance for classifying crop types.\n",
    "\n",
    "Find the feature in the dataset that produces the best score for predicting \"crop\".\n",
    "From this information, create a variable called best_predictive_feature, which:\n",
    "Should be a dictionary containing the best predictive feature name as a key and the evaluation score (for the metric you chose) as the value.\n"
   ]
  },
  {
   "cell_type": "code",
   "execution_count": 1,
   "id": "cd3cd7b6",
   "metadata": {
    "_cell_guid": "b1076dfc-b9ad-4769-8c92-a6c4dae69d19",
    "_uuid": "8f2839f25d086af736a60e9eeb907d3b93b6e0e5",
    "execution": {
     "iopub.execute_input": "2024-05-14T17:48:13.601674Z",
     "iopub.status.busy": "2024-05-14T17:48:13.601274Z",
     "iopub.status.idle": "2024-05-14T17:48:16.022906Z",
     "shell.execute_reply": "2024-05-14T17:48:16.021725Z"
    },
    "papermill": {
     "duration": 2.434111,
     "end_time": "2024-05-14T17:48:16.026212",
     "exception": false,
     "start_time": "2024-05-14T17:48:13.592101",
     "status": "completed"
    },
    "tags": []
   },
   "outputs": [],
   "source": [
    "import pandas as pd\n",
    "from sklearn.linear_model import LogisticRegression\n",
    "from sklearn.model_selection import train_test_split\n",
    "from sklearn import metrics\n",
    "from sklearn.metrics import accuracy_score\n",
    "from sklearn.metrics import f1_score"
   ]
  },
  {
   "cell_type": "code",
   "execution_count": 2,
   "id": "fe64e3db",
   "metadata": {
    "execution": {
     "iopub.execute_input": "2024-05-14T17:48:16.044143Z",
     "iopub.status.busy": "2024-05-14T17:48:16.042629Z",
     "iopub.status.idle": "2024-05-14T17:48:16.071200Z",
     "shell.execute_reply": "2024-05-14T17:48:16.069961Z"
    },
    "papermill": {
     "duration": 0.040524,
     "end_time": "2024-05-14T17:48:16.074161",
     "exception": false,
     "start_time": "2024-05-14T17:48:16.033637",
     "status": "completed"
    },
    "tags": []
   },
   "outputs": [],
   "source": [
    "# Load the dataset\n",
    "crop_df = pd.read_csv(\"/kaggle/input/soil-measure/soil_measures.csv\")"
   ]
  },
  {
   "cell_type": "markdown",
   "id": "d1ccd0cf",
   "metadata": {
    "papermill": {
     "duration": 0.006752,
     "end_time": "2024-05-14T17:48:16.088017",
     "exception": false,
     "start_time": "2024-05-14T17:48:16.081265",
     "status": "completed"
    },
    "tags": []
   },
   "source": [
    "**Check for missing values**\n",
    "\n",
    "You can chain the pandas DataFrame methods isna().sum() to count the number of null values in each column, helping you decide whether you need to drop or impute missing values."
   ]
  },
  {
   "cell_type": "code",
   "execution_count": 3,
   "id": "102fe703",
   "metadata": {
    "execution": {
     "iopub.execute_input": "2024-05-14T17:48:16.104177Z",
     "iopub.status.busy": "2024-05-14T17:48:16.103705Z",
     "iopub.status.idle": "2024-05-14T17:48:16.138582Z",
     "shell.execute_reply": "2024-05-14T17:48:16.136690Z"
    },
    "papermill": {
     "duration": 0.046482,
     "end_time": "2024-05-14T17:48:16.141513",
     "exception": false,
     "start_time": "2024-05-14T17:48:16.095031",
     "status": "completed"
    },
    "tags": []
   },
   "outputs": [
    {
     "name": "stdout",
     "output_type": "stream",
     "text": [
      "        N   P   K        ph    crop\n",
      "0      90  42  43  6.502985    rice\n",
      "1      85  58  41  7.038096    rice\n",
      "2      60  55  44  7.840207    rice\n",
      "3      74  35  40  6.980401    rice\n",
      "4      78  42  42  7.628473    rice\n",
      "...   ...  ..  ..       ...     ...\n",
      "2195  107  34  32  6.780064  coffee\n",
      "2196   99  15  27  6.086922  coffee\n",
      "2197  118  33  30  6.362608  coffee\n",
      "2198  117  32  34  6.758793  coffee\n",
      "2199  104  18  30  6.779833  coffee\n",
      "\n",
      "[2200 rows x 5 columns]\n",
      "N       0\n",
      "P       0\n",
      "K       0\n",
      "ph      0\n",
      "crop    0\n",
      "dtype: int64\n"
     ]
    }
   ],
   "source": [
    "# Check for missing values\n",
    "print(crop_df)\n",
    "\n",
    "missing_values = crop_df.isna().sum()\n",
    "print(missing_values)"
   ]
  },
  {
   "cell_type": "markdown",
   "id": "744e7351",
   "metadata": {
    "papermill": {
     "duration": 0.007021,
     "end_time": "2024-05-14T17:48:16.156025",
     "exception": false,
     "start_time": "2024-05-14T17:48:16.149004",
     "status": "completed"
    },
    "tags": []
   },
   "source": [
    "**Check for crop types**\n",
    "\n",
    "To confirm if \"crop\" is a binary or multi-label feature you can use the pandas Series .unique() method to display all unique values in that column."
   ]
  },
  {
   "cell_type": "code",
   "execution_count": 4,
   "id": "34a556f4",
   "metadata": {
    "execution": {
     "iopub.execute_input": "2024-05-14T17:48:16.172654Z",
     "iopub.status.busy": "2024-05-14T17:48:16.171720Z",
     "iopub.status.idle": "2024-05-14T17:48:16.181733Z",
     "shell.execute_reply": "2024-05-14T17:48:16.180543Z"
    },
    "papermill": {
     "duration": 0.021375,
     "end_time": "2024-05-14T17:48:16.184633",
     "exception": false,
     "start_time": "2024-05-14T17:48:16.163258",
     "status": "completed"
    },
    "tags": []
   },
   "outputs": [
    {
     "name": "stdout",
     "output_type": "stream",
     "text": [
      "['rice' 'maize' 'chickpea' 'kidneybeans' 'pigeonpeas' 'mothbeans'\n",
      " 'mungbean' 'blackgram' 'lentil' 'pomegranate' 'banana' 'mango' 'grapes'\n",
      " 'watermelon' 'muskmelon' 'apple' 'orange' 'papaya' 'coconut' 'cotton'\n",
      " 'jute' 'coffee']\n"
     ]
    }
   ],
   "source": [
    "# Check for crop types\n",
    "crop_unique = crop_df['crop'].unique()\n",
    "print(crop_unique)"
   ]
  },
  {
   "cell_type": "markdown",
   "id": "23c98091",
   "metadata": {
    "papermill": {
     "duration": 0.007337,
     "end_time": "2024-05-14T17:48:16.199977",
     "exception": false,
     "start_time": "2024-05-14T17:48:16.192640",
     "status": "completed"
    },
    "tags": []
   },
   "source": [
    "**Split the data\n",
    "Create training and test sets using all features.**\n",
    "\n",
    "Features and target variables\n",
    "Create a variable containing the features, all columns except \"crop\", and another variable containing only the \"crop\".\n",
    "\n"
   ]
  },
  {
   "cell_type": "code",
   "execution_count": 5,
   "id": "de70ae50",
   "metadata": {
    "execution": {
     "iopub.execute_input": "2024-05-14T17:48:16.217343Z",
     "iopub.status.busy": "2024-05-14T17:48:16.216861Z",
     "iopub.status.idle": "2024-05-14T17:48:16.224599Z",
     "shell.execute_reply": "2024-05-14T17:48:16.223060Z"
    },
    "papermill": {
     "duration": 0.019587,
     "end_time": "2024-05-14T17:48:16.227179",
     "exception": false,
     "start_time": "2024-05-14T17:48:16.207592",
     "status": "completed"
    },
    "tags": []
   },
   "outputs": [],
   "source": [
    "# Features and target variables\n",
    "X = crop_df.drop(\"crop\", axis=1).values\n",
    "y = crop_df[\"crop\"].values"
   ]
  },
  {
   "cell_type": "markdown",
   "id": "ae71e58e",
   "metadata": {
    "papermill": {
     "duration": 0.007952,
     "end_time": "2024-05-14T17:48:16.244723",
     "exception": false,
     "start_time": "2024-05-14T17:48:16.236771",
     "status": "completed"
    },
    "tags": []
   },
   "source": [
    "Use train_test_split()"
   ]
  },
  {
   "cell_type": "code",
   "execution_count": 6,
   "id": "2da5a65e",
   "metadata": {
    "execution": {
     "iopub.execute_input": "2024-05-14T17:48:16.262556Z",
     "iopub.status.busy": "2024-05-14T17:48:16.262068Z",
     "iopub.status.idle": "2024-05-14T17:48:16.272022Z",
     "shell.execute_reply": "2024-05-14T17:48:16.270688Z"
    },
    "papermill": {
     "duration": 0.022275,
     "end_time": "2024-05-14T17:48:16.274962",
     "exception": false,
     "start_time": "2024-05-14T17:48:16.252687",
     "status": "completed"
    },
    "tags": []
   },
   "outputs": [],
   "source": [
    "# Use train_test_split()\n",
    "X_train, X_test, y_train, y_test = train_test_split(X, y , test_size = 0.2, random_state =42)"
   ]
  },
  {
   "cell_type": "markdown",
   "id": "dea414c0",
   "metadata": {
    "papermill": {
     "duration": 0.006979,
     "end_time": "2024-05-14T17:48:16.289530",
     "exception": false,
     "start_time": "2024-05-14T17:48:16.282551",
     "status": "completed"
    },
    "tags": []
   },
   "source": [
    "\n",
    "**Evaluate feature performance**\n",
    "\n",
    "Predict the crop using each feature individually. You should build a model for each feature. That means you will build four models."
   ]
  },
  {
   "cell_type": "code",
   "execution_count": 7,
   "id": "93f6fe77",
   "metadata": {
    "execution": {
     "iopub.execute_input": "2024-05-14T17:48:16.306164Z",
     "iopub.status.busy": "2024-05-14T17:48:16.305695Z",
     "iopub.status.idle": "2024-05-14T17:48:16.311870Z",
     "shell.execute_reply": "2024-05-14T17:48:16.310503Z"
    },
    "papermill": {
     "duration": 0.017618,
     "end_time": "2024-05-14T17:48:16.314344",
     "exception": false,
     "start_time": "2024-05-14T17:48:16.296726",
     "status": "completed"
    },
    "tags": []
   },
   "outputs": [],
   "source": [
    "# Create a dictionary to store each features predictive performance\n",
    "features_performance = {}\n",
    "feature_accuracy ={}\n",
    "acc = []\n",
    "f1 = []\n",
    "features = [\"N\", \"P\", \"K\", \"ph\"]"
   ]
  },
  {
   "cell_type": "markdown",
   "id": "d75039f8",
   "metadata": {
    "papermill": {
     "duration": 0.007023,
     "end_time": "2024-05-14T17:48:16.328687",
     "exception": false,
     "start_time": "2024-05-14T17:48:16.321664",
     "status": "completed"
    },
    "tags": []
   },
   "source": [
    "**Loop through the features**\n",
    "\n",
    "You can train and evaluate the performance of each feature by looping through them using the syntax for feature in [\"N\", \"P\", \"K\", \"ph\"]:\n",
    "\n",
    "**Training a multi-class classifier algorithm**\n",
    "\n",
    "Inside of the for loop iterating over a list of features, you can call LogisticRegression() to create your model, assigning to the variable log_reg.\n",
    "You should set the multi_class argument to \"multinomial\" so that multi-class prediction is supported.\n",
    "Fit the model to the feature in X_train by subsetting it using double square brackets e.g., log_reg.fit(X_train[[feature]], y_train)"
   ]
  },
  {
   "cell_type": "markdown",
   "id": "ad579652",
   "metadata": {
    "papermill": {
     "duration": 0.007002,
     "end_time": "2024-05-14T17:48:16.343189",
     "exception": false,
     "start_time": "2024-05-14T17:48:16.336187",
     "status": "completed"
    },
    "tags": []
   },
   "source": [
    "**Predicting target values using the test set**\n",
    "\n",
    "You can use the model's .predict() method, subsetting the feature from X_test, to predict target values.\n",
    "Convention is to store the results as a variable called y_pred.\n",
    "\n",
    "\n",
    "\n",
    "**Evaluating the performance of each feature**\n",
    "\n",
    "You can calculate F1 score, which is the harmonic mean of precision and recall, to evaluate feature performance.\n",
    "\n",
    "Alternatively, you can use metrics.balanced_accuracy_score().\n",
    "Scikit-learn's metrics.f1_score() function takes the target values, y_test, and the predicted values, y_pred, in order to calculate the F1 score.\n",
    "Set the f1_score()'s keyword argument average equal to \"weighted\" when calculating performance for each feature.\n",
    "\n",
    "Assign the results of f1_score() to a variable called feature_performance.\n",
    "If you created an empty dictionary called feature_performance outside of a for loop where you built your models, you can add the feature-performance key-value pairs to the dictionary using the syntax feature_performance[feature] = feature_importance.\n",
    "You can use a print() statement with an f-string to output the feature and the performance, for example, print(f\"F1-score for {feature}: {feature_performance}\")"
   ]
  },
  {
   "cell_type": "code",
   "execution_count": 8,
   "id": "66e99e6b",
   "metadata": {
    "execution": {
     "iopub.execute_input": "2024-05-14T17:48:16.360026Z",
     "iopub.status.busy": "2024-05-14T17:48:16.359587Z",
     "iopub.status.idle": "2024-05-14T17:48:25.070942Z",
     "shell.execute_reply": "2024-05-14T17:48:25.069250Z"
    },
    "papermill": {
     "duration": 8.728177,
     "end_time": "2024-05-14T17:48:25.078706",
     "exception": false,
     "start_time": "2024-05-14T17:48:16.350529",
     "status": "completed"
    },
    "tags": []
   },
   "outputs": [
    {
     "name": "stderr",
     "output_type": "stream",
     "text": [
      "/opt/conda/lib/python3.10/site-packages/sklearn/linear_model/_logistic.py:458: ConvergenceWarning: lbfgs failed to converge (status=1):\n",
      "STOP: TOTAL NO. of ITERATIONS REACHED LIMIT.\n",
      "\n",
      "Increase the number of iterations (max_iter) or scale the data as shown in:\n",
      "    https://scikit-learn.org/stable/modules/preprocessing.html\n",
      "Please also refer to the documentation for alternative solver options:\n",
      "    https://scikit-learn.org/stable/modules/linear_model.html#logistic-regression\n",
      "  n_iter_i = _check_optimize_result(\n"
     ]
    },
    {
     "name": "stdout",
     "output_type": "stream",
     "text": [
      "Feature: N, Accuracy: 0.1590909090909091\n",
      "F1-score for N: 0.11469020273959639\n"
     ]
    },
    {
     "name": "stderr",
     "output_type": "stream",
     "text": [
      "/opt/conda/lib/python3.10/site-packages/sklearn/linear_model/_logistic.py:458: ConvergenceWarning: lbfgs failed to converge (status=1):\n",
      "STOP: TOTAL NO. of ITERATIONS REACHED LIMIT.\n",
      "\n",
      "Increase the number of iterations (max_iter) or scale the data as shown in:\n",
      "    https://scikit-learn.org/stable/modules/preprocessing.html\n",
      "Please also refer to the documentation for alternative solver options:\n",
      "    https://scikit-learn.org/stable/modules/linear_model.html#logistic-regression\n",
      "  n_iter_i = _check_optimize_result(\n"
     ]
    },
    {
     "name": "stdout",
     "output_type": "stream",
     "text": [
      "Feature: P, Accuracy: 0.18863636363636363\n",
      "F1-score for P: 0.12613828555719708\n",
      "Feature: K, Accuracy: 0.2727272727272727\n",
      "F1-score for K: 0.23123431237441186\n",
      "Feature: ph, Accuracy: 0.09772727272727273\n",
      "F1-score for ph: 0.04532731061152114\n"
     ]
    },
    {
     "name": "stderr",
     "output_type": "stream",
     "text": [
      "/opt/conda/lib/python3.10/site-packages/sklearn/linear_model/_logistic.py:458: ConvergenceWarning: lbfgs failed to converge (status=1):\n",
      "STOP: TOTAL NO. of ITERATIONS REACHED LIMIT.\n",
      "\n",
      "Increase the number of iterations (max_iter) or scale the data as shown in:\n",
      "    https://scikit-learn.org/stable/modules/preprocessing.html\n",
      "Please also refer to the documentation for alternative solver options:\n",
      "    https://scikit-learn.org/stable/modules/linear_model.html#logistic-regression\n",
      "  n_iter_i = _check_optimize_result(\n"
     ]
    }
   ],
   "source": [
    "# Loop through the features\n",
    "for feature in features:\n",
    "    # Training a multi-class classifier algorithm\n",
    "    # max_iter is used to ensure convergence\n",
    "    log_reg = LogisticRegression(multi_class='multinomial', max_iter=1000)\n",
    "    log_reg.fit(X_train[:, [features.index(feature)]], y_train)\n",
    "    \n",
    "    # Predicting target values using the test set\n",
    "    y_pred = log_reg.predict(X_test[:, [features.index(feature)]])\n",
    "    \n",
    "    # Evaluating the performance of each feature\n",
    "    feature_accuracy = accuracy_score(y_test, y_pred)\n",
    "    acc.append(feature_accuracy)\n",
    "    print(f\"Feature: {feature}, Accuracy: {feature_accuracy}\")\n",
    "    \n",
    "    # Using the F1.score()\n",
    "    feature_performance = f1_score(y_test, y_pred, average = 'weighted')\n",
    "    # feature_performance[feature] = feature_importance\n",
    "    f1.append(feature_performance)\n",
    "    print(f\"F1-score for {feature}: {feature_performance}\")"
   ]
  },
  {
   "cell_type": "markdown",
   "id": "39f77650",
   "metadata": {
    "papermill": {
     "duration": 0.016279,
     "end_time": "2024-05-14T17:48:25.112198",
     "exception": false,
     "start_time": "2024-05-14T17:48:25.095919",
     "status": "completed"
    },
    "tags": []
   },
   "source": [
    "**Saving the information**\n",
    "\n",
    "Create a variable called best_predictive_feature.\n",
    "It should contain a single key-value pair.\n",
    "The key should be a string representing the name of the feature that produced the best model performance.\n",
    "The value should be the model's evaluation metric score."
   ]
  },
  {
   "cell_type": "code",
   "execution_count": 9,
   "id": "dccbaef2",
   "metadata": {
    "execution": {
     "iopub.execute_input": "2024-05-14T17:48:25.148089Z",
     "iopub.status.busy": "2024-05-14T17:48:25.147311Z",
     "iopub.status.idle": "2024-05-14T17:48:25.163570Z",
     "shell.execute_reply": "2024-05-14T17:48:25.161765Z"
    },
    "papermill": {
     "duration": 0.0398,
     "end_time": "2024-05-14T17:48:25.168467",
     "exception": false,
     "start_time": "2024-05-14T17:48:25.128667",
     "status": "completed"
    },
    "tags": []
   },
   "outputs": [
    {
     "name": "stdout",
     "output_type": "stream",
     "text": [
      "accuracy: [0.1590909090909091, 0.18863636363636363, 0.2727272727272727, 0.09772727272727273]\n",
      "f1_score: [0.11469020273959639, 0.12613828555719708, 0.23123431237441186, 0.04532731061152114]\n"
     ]
    }
   ],
   "source": [
    " print(\"accuracy:\",acc)\n",
    " print(\"f1_score:\", f1)"
   ]
  },
  {
   "cell_type": "code",
   "execution_count": 10,
   "id": "3d6e9e37",
   "metadata": {
    "execution": {
     "iopub.execute_input": "2024-05-14T17:48:25.188941Z",
     "iopub.status.busy": "2024-05-14T17:48:25.188448Z",
     "iopub.status.idle": "2024-05-14T17:48:25.198117Z",
     "shell.execute_reply": "2024-05-14T17:48:25.196787Z"
    },
    "papermill": {
     "duration": 0.02307,
     "end_time": "2024-05-14T17:48:25.201516",
     "exception": false,
     "start_time": "2024-05-14T17:48:25.178446",
     "status": "completed"
    },
    "tags": []
   },
   "outputs": [
    {
     "name": "stdout",
     "output_type": "stream",
     "text": [
      "Best Predictive Feature: K\n",
      "Score: 0.2727272727272727\n"
     ]
    }
   ],
   "source": [
    "# Compare the performance metrics from both lists\n",
    "best_predictive_feature = {\"feature\": None, \"score\": 0}  # Initialize the variable\n",
    "\n",
    "# Compare the performance metrics from both lists\n",
    "if acc and f1:\n",
    "    max_performance = max(f1)\n",
    "    max_accuracy = max(acc)\n",
    "    \n",
    "    if max_performance > max_accuracy:\n",
    "        best_predictive_feature[\"feature\"] = features[acc.index(max_accuracy)]  # Use the index to find the corresponding feature\n",
    "        best_predictive_feature[\"score\"] = max_performance\n",
    "    else:\n",
    "        best_predictive_feature[\"feature\"] = features[f1.index(max_performance)]  \n",
    "        best_predictive_feature[\"score\"] = max_accuracy\n",
    "\n",
    "# Print the best predictive feature and its score\n",
    "print(\"Best Predictive Feature:\", best_predictive_feature[\"feature\"])\n",
    "print(\"Score:\", best_predictive_feature[\"score\"])\n"
   ]
  },
  {
   "cell_type": "code",
   "execution_count": 11,
   "id": "818b5486",
   "metadata": {
    "execution": {
     "iopub.execute_input": "2024-05-14T17:48:25.221547Z",
     "iopub.status.busy": "2024-05-14T17:48:25.220610Z",
     "iopub.status.idle": "2024-05-14T17:48:25.228866Z",
     "shell.execute_reply": "2024-05-14T17:48:25.227127Z"
    },
    "papermill": {
     "duration": 0.021281,
     "end_time": "2024-05-14T17:48:25.231459",
     "exception": false,
     "start_time": "2024-05-14T17:48:25.210178",
     "status": "completed"
    },
    "tags": []
   },
   "outputs": [
    {
     "name": "stdout",
     "output_type": "stream",
     "text": [
      "F1 scores: [0.11469020273959639, 0.12613828555719708, 0.23123431237441186, 0.04532731061152114]\n",
      "Best Predictive Feature: K\n"
     ]
    }
   ],
   "source": [
    "# Print F1 scores\n",
    "print(\"F1 scores:\", f1)\n",
    "\n",
    "# Find the index of the best F1 score\n",
    "best_f1_index = f1.index(max(f1))\n",
    "\n",
    "# Select the feature corresponding to the best F1 score\n",
    "best_feature = features[best_f1_index]\n",
    "\n",
    "# Print the best feature\n",
    "print(\"Best Predictive Feature:\", best_feature)\n"
   ]
  },
  {
   "cell_type": "code",
   "execution_count": 12,
   "id": "59ab4240",
   "metadata": {
    "execution": {
     "iopub.execute_input": "2024-05-14T17:48:25.251632Z",
     "iopub.status.busy": "2024-05-14T17:48:25.250110Z",
     "iopub.status.idle": "2024-05-14T17:48:33.987135Z",
     "shell.execute_reply": "2024-05-14T17:48:33.985539Z"
    },
    "papermill": {
     "duration": 8.751284,
     "end_time": "2024-05-14T17:48:33.991270",
     "exception": false,
     "start_time": "2024-05-14T17:48:25.239986",
     "status": "completed"
    },
    "tags": []
   },
   "outputs": [
    {
     "name": "stderr",
     "output_type": "stream",
     "text": [
      "/opt/conda/lib/python3.10/site-packages/sklearn/linear_model/_logistic.py:458: ConvergenceWarning: lbfgs failed to converge (status=1):\n",
      "STOP: TOTAL NO. of ITERATIONS REACHED LIMIT.\n",
      "\n",
      "Increase the number of iterations (max_iter) or scale the data as shown in:\n",
      "    https://scikit-learn.org/stable/modules/preprocessing.html\n",
      "Please also refer to the documentation for alternative solver options:\n",
      "    https://scikit-learn.org/stable/modules/linear_model.html#logistic-regression\n",
      "  n_iter_i = _check_optimize_result(\n"
     ]
    },
    {
     "name": "stdout",
     "output_type": "stream",
     "text": [
      "F1-score for N: 0.11469020273959639\n"
     ]
    },
    {
     "name": "stderr",
     "output_type": "stream",
     "text": [
      "/opt/conda/lib/python3.10/site-packages/sklearn/linear_model/_logistic.py:458: ConvergenceWarning: lbfgs failed to converge (status=1):\n",
      "STOP: TOTAL NO. of ITERATIONS REACHED LIMIT.\n",
      "\n",
      "Increase the number of iterations (max_iter) or scale the data as shown in:\n",
      "    https://scikit-learn.org/stable/modules/preprocessing.html\n",
      "Please also refer to the documentation for alternative solver options:\n",
      "    https://scikit-learn.org/stable/modules/linear_model.html#logistic-regression\n",
      "  n_iter_i = _check_optimize_result(\n"
     ]
    },
    {
     "name": "stdout",
     "output_type": "stream",
     "text": [
      "F1-score for P: 0.12613828555719708\n"
     ]
    },
    {
     "name": "stderr",
     "output_type": "stream",
     "text": [
      "/opt/conda/lib/python3.10/site-packages/sklearn/linear_model/_logistic.py:458: ConvergenceWarning: lbfgs failed to converge (status=1):\n",
      "STOP: TOTAL NO. of ITERATIONS REACHED LIMIT.\n",
      "\n",
      "Increase the number of iterations (max_iter) or scale the data as shown in:\n",
      "    https://scikit-learn.org/stable/modules/preprocessing.html\n",
      "Please also refer to the documentation for alternative solver options:\n",
      "    https://scikit-learn.org/stable/modules/linear_model.html#logistic-regression\n",
      "  n_iter_i = _check_optimize_result(\n"
     ]
    },
    {
     "name": "stdout",
     "output_type": "stream",
     "text": [
      "F1-score for K: 0.23123431237441186\n",
      "F1-score for ph: 0.04532731061152114\n",
      "Best Predictive Feature: {'K': 0.23123431237441186}\n"
     ]
    }
   ],
   "source": [
    "# All required libraries are imported here for you.\n",
    "import pandas as pd\n",
    "from sklearn.linear_model import LogisticRegression\n",
    "from sklearn.model_selection import train_test_split\n",
    "from sklearn.metrics import f1_score\n",
    "\n",
    "# Load the dataset\n",
    "crop_df = pd.read_csv(\"/kaggle/input/soil-measure/soil_measures.csv\")\n",
    "\n",
    "# Features and target variables\n",
    "X = crop_df.drop(\"crop\", axis=1)\n",
    "y = crop_df[\"crop\"]\n",
    "\n",
    "# Split the data\n",
    "X_train, X_test, y_train, y_test = train_test_split(X, y, test_size=0.2, random_state=42)\n",
    "\n",
    "# Create a dictionary to store each feature's performance\n",
    "feature_performance = {}\n",
    "\n",
    "# Loop through the features\n",
    "for feature in X_train.columns:\n",
    "    # Training a multi-class classifier algorithm\n",
    "    log_reg = LogisticRegression(multi_class='multinomial', max_iter=1000)\n",
    "    log_reg.fit(X_train[[feature]], y_train)\n",
    "    \n",
    "    # Predicting target values using the test set\n",
    "    y_pred = log_reg.predict(X_test[[feature]])\n",
    "    \n",
    "    # Using the F1 score for evaluation\n",
    "    feature_performance[feature] = f1_score(y_test, y_pred, average='weighted')\n",
    "    \n",
    "    # Print the feature and its performance\n",
    "    print(f\"F1-score for {feature}: {feature_performance[feature]}\")\n",
    "\n",
    "# Find the feature with the best performance\n",
    "best_feature = max(feature_performance, key=feature_performance.get)\n",
    "\n",
    "# Create the best_predictive_feature variable\n",
    "best_predictive_feature = {best_feature: feature_performance[best_feature]}\n",
    "\n",
    "# Print the best predictive feature and its score\n",
    "print(\"Best Predictive Feature:\", best_predictive_feature)\n"
   ]
  }
 ],
 "metadata": {
  "kaggle": {
   "accelerator": "none",
   "dataSources": [
    {
     "datasetId": 4245881,
     "sourceId": 7316695,
     "sourceType": "datasetVersion"
    }
   ],
   "dockerImageVersionId": 30698,
   "isGpuEnabled": false,
   "isInternetEnabled": true,
   "language": "python",
   "sourceType": "notebook"
  },
  "kernelspec": {
   "display_name": "Python 3",
   "language": "python",
   "name": "python3"
  },
  "language_info": {
   "codemirror_mode": {
    "name": "ipython",
    "version": 3
   },
   "file_extension": ".py",
   "mimetype": "text/x-python",
   "name": "python",
   "nbconvert_exporter": "python",
   "pygments_lexer": "ipython3",
   "version": "3.10.13"
  },
  "papermill": {
   "default_parameters": {},
   "duration": 24.298343,
   "end_time": "2024-05-14T17:48:34.649614",
   "environment_variables": {},
   "exception": null,
   "input_path": "__notebook__.ipynb",
   "output_path": "__notebook__.ipynb",
   "parameters": {},
   "start_time": "2024-05-14T17:48:10.351271",
   "version": "2.5.0"
  }
 },
 "nbformat": 4,
 "nbformat_minor": 5
}
