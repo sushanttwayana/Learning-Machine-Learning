{
  "cells": [
    {
      "cell_type": "markdown",
      "metadata": {
        "id": "view-in-github",
        "colab_type": "text"
      },
      "source": [
        "<a href=\"https://colab.research.google.com/github/sushanttwayana/Learning-Machine-Learning/blob/main/ML_Day_1(Numpy).ipynb\" target=\"_parent\"><img src=\"https://colab.research.google.com/assets/colab-badge.svg\" alt=\"Open In Colab\"/></a>"
      ]
    },
    {
      "cell_type": "code",
      "execution_count": null,
      "id": "fd5e78f7",
      "metadata": {
        "id": "fd5e78f7"
      },
      "outputs": [],
      "source": [
        "import numpy\n"
      ]
    },
    {
      "cell_type": "code",
      "execution_count": null,
      "id": "6196cd2e",
      "metadata": {
        "id": "6196cd2e",
        "outputId": "5443196a-2f9c-4156-966c-e729aa435c6b"
      },
      "outputs": [
        {
          "name": "stdout",
          "output_type": "stream",
          "text": [
            "[10 20 30]\n",
            "[[10]\n",
            " [20]\n",
            " [30]]\n",
            "row_vector[1]: 20\n",
            "row_vector[:] [10 20 30]\n"
          ]
        }
      ],
      "source": [
        "import numpy as np\n",
        "\n",
        "# Create a row vector\n",
        "row_vector = np.array([10, 20, 30])\n",
        "print(row_vector)\n",
        "\n",
        "# Create a column vector\n",
        "col_vector = np.array([[10],[20], [30]])\n",
        "print(col_vector)\n",
        "\n",
        "print(\"row_vector[1]:\", row_vector[1])\n",
        "\n",
        "print(\"row_vector[:]\", row_vector[:])"
      ]
    },
    {
      "cell_type": "code",
      "execution_count": null,
      "id": "72b0ce00",
      "metadata": {
        "id": "72b0ce00",
        "outputId": "e3b1982f-3a75-48cd-f83e-55754c9d5f71"
      },
      "outputs": [
        {
          "name": "stdout",
          "output_type": "stream",
          "text": [
            "[[10 20 30]\n",
            " [40 50 60]\n",
            " [70 80 90]]\n",
            "matrix[2][2]: 90\n",
            "matrix[:2, :]: [[10 20 30]\n",
            " [40 50 60]]\n"
          ]
        }
      ],
      "source": [
        "# Create a matrix\n",
        "\n",
        "matrix = np.array([[10, 20, 30], [40,50, 60], [70, 80, 90]])\n",
        "print(matrix)\n",
        "\n",
        "print(\"matrix[2][2]:\", matrix[2][2])\n",
        "\n",
        "print(\"matrix[:2, :]:\", matrix[:2, :])"
      ]
    },
    {
      "cell_type": "code",
      "execution_count": null,
      "id": "55129117",
      "metadata": {
        "id": "55129117",
        "outputId": "26449209-3ef9-428a-cd57-f3aad011f184"
      },
      "outputs": [
        {
          "name": "stdout",
          "output_type": "stream",
          "text": [
            "Rows and Columns: (3, 3)\n",
            "Total Elements: 9\n",
            "Dimension: 2\n"
          ]
        }
      ],
      "source": [
        "matrix = np.array([[10, 20, 30], [40,50, 60], [70, 80, 90]])\n",
        "\n",
        "# View the number of rows and columns of the matrix\n",
        "print(\"Rows and Columns:\", matrix.shape)\n",
        "\n",
        "# View the number of elements (rows* columns)\n",
        "print(\"Total Elements:\", matrix.size)\n",
        "\n",
        "# View the dimension of the matrix\n",
        "print(\"Dimension:\", matrix.ndim)"
      ]
    },
    {
      "cell_type": "code",
      "execution_count": null,
      "id": "767070b0",
      "metadata": {
        "id": "767070b0",
        "outputId": "8fed6de2-bf2c-46f7-c112-2bf7b9ea04ad"
      },
      "outputs": [
        {
          "name": "stdout",
          "output_type": "stream",
          "text": [
            "Max element : 90\n",
            "Min element : 10\n",
            "[70 80 90]\n",
            "[30 60 90]\n",
            "Average of elements: 50.0\n"
          ]
        }
      ],
      "source": [
        "# Min and Max in matrix\n",
        "\n",
        "matrix = np.array([[10, 20, 30], [40,50, 60], [70, 80, 90]])\n",
        "\n",
        "print(\"Max element :\", np.max(matrix))\n",
        "\n",
        "print(\"Min element :\", np.min(matrix))\n",
        "\n",
        "# To find the max element in each column\n",
        "print(np.max(matrix, axis = 0))\n",
        "\n",
        "# To find the max element in each row\n",
        "print(np.max(matrix, axis = 1))\n",
        "\n",
        "# calculate the average\n",
        "print(\"Average of elements:\", np.mean(matrix))\n"
      ]
    },
    {
      "cell_type": "code",
      "execution_count": null,
      "id": "54e642bf",
      "metadata": {
        "id": "54e642bf",
        "outputId": "9ab4f8f5-322d-47cb-9ce5-285bff367272"
      },
      "outputs": [
        {
          "name": "stdout",
          "output_type": "stream",
          "text": [
            "[[10 20 30]\n",
            " [40 50 60]\n",
            " [70 80 90]]\n",
            "[[10 20 30 40 50 60 70 80 90]]\n",
            "[[10 20 30 40 50 60 70 80 90]]\n",
            "[10 20 30 40 50 60 70 80 90]\n",
            "[10 20 30 40 50 60 70 80 90]\n"
          ]
        }
      ],
      "source": [
        "# Reshaping\n",
        "\n",
        "matrix = np.array([[10, 20, 30], [40,50, 60], [70, 80, 90]])\n",
        "print(matrix)\n",
        "\n",
        "# Reshape\n",
        "print(matrix.reshape(1,9))\n",
        "\n",
        "# 1 indicates row and -1 indicates as many as columns needed\n",
        "print(matrix.reshape(1, -1))\n",
        "\n",
        "# If we provide only 1 value in reshape it would only return 1d array of that length\n",
        "print(matrix.reshape(9))\n",
        "\n",
        "# we can also use flatten to convert the matrix into 1d array\n",
        "print(matrix.flatten())"
      ]
    },
    {
      "cell_type": "code",
      "execution_count": null,
      "id": "a6251719",
      "metadata": {
        "id": "a6251719",
        "outputId": "a1fe506b-8260-4df7-aa8e-ddb29733846d"
      },
      "outputs": [
        {
          "name": "stdout",
          "output_type": "stream",
          "text": [
            "Matrix:\n",
            " [[10 20 30]\n",
            " [40 50 60]\n",
            " [70 80 90]]\n",
            "Transpose:\n",
            " [[10 40 70]\n",
            " [20 50 80]\n",
            " [30 60 90]]\n"
          ]
        }
      ],
      "source": [
        "# Transpose of the matrix\n",
        "\n",
        "print(\"Matrix:\\n\",matrix)\n",
        "print(\"Transpose:\\n\", matrix.T)"
      ]
    },
    {
      "cell_type": "code",
      "execution_count": null,
      "id": "ba1a742c",
      "metadata": {
        "id": "ba1a742c",
        "outputId": "95557047-8a7f-43bf-a58a-361a3c9cd9f7"
      },
      "outputs": [
        {
          "name": "stdout",
          "output_type": "stream",
          "text": [
            "Diagonal elem: [10 50 90]\n",
            "Diagonal elem: [10 50 90]\n"
          ]
        }
      ],
      "source": [
        "# Print the principal diagonal\n",
        "\n",
        "print(\"Diagonal elem:\", np.diagonal(matrix))\n",
        "print(\"Diagonal elem:\", matrix.diagonal())"
      ]
    },
    {
      "cell_type": "code",
      "execution_count": null,
      "id": "707d860e",
      "metadata": {
        "id": "707d860e",
        "outputId": "6185c1c9-77fb-4866-bb4f-cfbb34693d63"
      },
      "outputs": [
        {
          "name": "stdout",
          "output_type": "stream",
          "text": [
            "3200\n"
          ]
        }
      ],
      "source": [
        "# Dot Product\n",
        "\n",
        "vector_1 = np.array([10, 20, 30])\n",
        "vector_2 = np.array([40, 50, 60])\n",
        "\n",
        "# Calculate the dot product\n",
        "\n",
        "print(np.dot(vector_1, vector_2))"
      ]
    },
    {
      "cell_type": "code",
      "execution_count": null,
      "id": "b470a64d",
      "metadata": {
        "id": "b470a64d",
        "outputId": "adb84631-49c2-48c9-8995-7155847b2fd3"
      },
      "outputs": [
        {
          "name": "stdout",
          "output_type": "stream",
          "text": [
            "[[10 20 30]\n",
            " [40 50 60]\n",
            " [70 80 90]]\n",
            "[[1 2 3]\n",
            " [4 5 6]\n",
            " [7 8 9]]\n",
            "[[11 22 33]\n",
            " [44 55 66]\n",
            " [77 88 99]]\n",
            "[[ 9 18 27]\n",
            " [36 45 54]\n",
            " [63 72 81]]\n",
            "[[ 10  40  90]\n",
            " [160 250 360]\n",
            " [490 640 810]]\n",
            "[[ 300  360  420]\n",
            " [ 660  810  960]\n",
            " [1020 1260 1500]]\n"
          ]
        }
      ],
      "source": [
        "# Adding , Subrtracction and Multiplication of two matrices\n",
        "\n",
        "matrix1 = np.array([[10, 20, 30], [40,50, 60], [70, 80, 90]])\n",
        "matrix2 = np.array([[1, 2, 3], [4, 5, 6], [7, 8, 9]])\n",
        "\n",
        "print(matrix1)\n",
        "print(matrix2)\n",
        "\n",
        "# additon\n",
        "print(np.add(matrix1, matrix2))\n",
        "\n",
        "# subtraction\n",
        "print(np.subtract(matrix1, matrix2))\n",
        "\n",
        "# multiplication ( Element wise multipication)\n",
        "print(matrix1 * matrix2)\n",
        "\n",
        "# for dot multiplication ie (row column wise)\n",
        "print(np.matmul(matrix1, matrix2))"
      ]
    },
    {
      "cell_type": "code",
      "execution_count": null,
      "id": "b71a7fce",
      "metadata": {
        "id": "b71a7fce",
        "outputId": "855fd9bb-4fb5-4998-e84a-f2df66302949"
      },
      "outputs": [
        {
          "name": "stdout",
          "output_type": "stream",
          "text": [
            "[[0. 0. 0. 0.]\n",
            " [0. 0. 0. 0.]\n",
            " [0. 0. 0. 0.]\n",
            " [0. 0. 0. 0.]]\n",
            "[[1. 1. 1.]\n",
            " [1. 1. 1.]\n",
            " [1. 1. 1.]]\n"
          ]
        }
      ],
      "source": [
        "# Create matrix element all of 0's and 1's\n",
        "\n",
        "zeros = np.zeros([4, 4])\n",
        "print(zeros)\n",
        "\n",
        "ones = np.ones([3, 3])\n",
        "print(ones)"
      ]
    },
    {
      "cell_type": "code",
      "execution_count": null,
      "id": "61ed1ec6",
      "metadata": {
        "id": "61ed1ec6",
        "outputId": "c261a3f4-1c80-45a5-f6d1-225d39d63d80"
      },
      "outputs": [
        {
          "name": "stdout",
          "output_type": "stream",
          "text": [
            "[6 6 8]\n",
            "[3.0549914  2.64766884 1.30899828 2.43544766 0.30709413 2.00790431]\n"
          ]
        }
      ],
      "source": [
        "# generate random numbers\n",
        "\n",
        "# Generate 3 random numbers in bw 1 and 10\n",
        "print(np.random.randint(0, 11, 3))\n",
        "\n",
        "# Draw 6 numbers from a normal distribution with mean 1.0 and std 2.0\n",
        "\n",
        "print(np.random.normal(1.0, 2.0, 6))"
      ]
    }
  ],
  "metadata": {
    "kernelspec": {
      "display_name": "Python 3 (ipykernel)",
      "language": "python",
      "name": "python3"
    },
    "language_info": {
      "codemirror_mode": {
        "name": "ipython",
        "version": 3
      },
      "file_extension": ".py",
      "mimetype": "text/x-python",
      "name": "python",
      "nbconvert_exporter": "python",
      "pygments_lexer": "ipython3",
      "version": "3.11.4"
    },
    "colab": {
      "provenance": [],
      "include_colab_link": true
    }
  },
  "nbformat": 4,
  "nbformat_minor": 5
}